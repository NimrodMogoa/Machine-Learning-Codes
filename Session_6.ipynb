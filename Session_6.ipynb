{
  "nbformat": 4,
  "nbformat_minor": 0,
  "metadata": {
    "colab": {
      "provenance": []
    },
    "kernelspec": {
      "name": "python3",
      "display_name": "Python 3"
    },
    "language_info": {
      "name": "python"
    }
  },
  "cells": [
    {
      "cell_type": "markdown",
      "source": [
        "# Session 6\n",
        "\n",
        "Image Processing\n",
        "\n",
        "\n",
        "---\n",
        "\n",
        "\n",
        "Michael de la Maza\n",
        "\n",
        "AI/ML\n",
        "\n",
        "Hult International Business School\n",
        "\n",
        "Adapted from \"Hands-on Machine Learning\" by Aurelien Geron"
      ],
      "metadata": {
        "id": "A9pm-3gEUvPY"
      }
    },
    {
      "cell_type": "markdown",
      "source": [
        "### Image processing with traditional machine learning"
      ],
      "metadata": {
        "id": "lKTjejV81unb"
      }
    },
    {
      "cell_type": "code",
      "execution_count": 1,
      "metadata": {
        "id": "tgn5smXlUoPZ"
      },
      "outputs": [],
      "source": [
        "#Load dataset\n",
        "# Takes time to load\n",
        "\n",
        "from sklearn.datasets import fetch_openml\n",
        "\n",
        "mnist = fetch_openml('mnist_784', as_frame = False, parser = 'auto')"
      ]
    },
    {
      "cell_type": "code",
      "source": [
        "# Set training and test set\n",
        "\n",
        "X, y = mnist.data, mnist.target\n",
        "\n",
        "print(X[:5])\n",
        "print(X.shape)\n",
        "\n",
        "print(y[:5])\n",
        "print(y.shape)\n",
        "\n",
        "# 70K images, 784 'features' (28x28 pixels)"
      ],
      "metadata": {
        "id": "RoRYXf0_Utxg"
      },
      "execution_count": null,
      "outputs": []
    },
    {
      "cell_type": "code",
      "source": [
        "# Plot one of the instances/images\n",
        "\n",
        "import matplotlib.pyplot as plt\n",
        "\n",
        "def plot_digit(image_data):\n",
        "  image = image_data.reshape(28,28)\n",
        "  plt.imshow(image, cmap=\"binary\")\n",
        "  plt.axis(\"off\")\n",
        "\n",
        "some_digit = X[0]\n",
        "plot_digit(some_digit)\n",
        "plt.show()\n",
        "\n",
        "print(y[0])"
      ],
      "metadata": {
        "id": "MKUv5xZoq_7G"
      },
      "execution_count": null,
      "outputs": []
    },
    {
      "cell_type": "code",
      "source": [
        "# Exercise: Plot several other digits. What do you see?\n",
        "# Do the classifications correspond to what you see?"
      ],
      "metadata": {
        "id": "apVrBh8wrpWz"
      },
      "execution_count": null,
      "outputs": []
    },
    {
      "cell_type": "code",
      "source": [
        "# Define training and test set\n",
        "\n",
        "X_train, X_test, y_train, y_test = X[:60000], X[60000:], y[:60000], y[60000:]\n"
      ],
      "metadata": {
        "id": "ojy2SgeDrvSW"
      },
      "execution_count": 4,
      "outputs": []
    },
    {
      "cell_type": "code",
      "source": [
        "# Training classifier to recognize '5'\n",
        "\n",
        "y_train_5 = (y_train == '5')\n",
        "y_test_5 = (y_test == '5')\n",
        "\n"
      ],
      "metadata": {
        "id": "iLFZ5eWasNVA"
      },
      "execution_count": 5,
      "outputs": []
    },
    {
      "cell_type": "code",
      "source": [
        "# Train classifier\n",
        "\n",
        "from sklearn.ensemble import RandomForestClassifier\n",
        "from sklearn.model_selection import cross_val_predict\n",
        "\n",
        "forest_clf = RandomForestClassifier(random_state=42)\n",
        "\n",
        "\n",
        "# Takes 1-2 minutes\n",
        "y_probas_forest = cross_val_predict(forest_clf, X_train, y_train_5, cv=3, method=\"predict_proba\")"
      ],
      "metadata": {
        "id": "l9oyX6gFvW1G"
      },
      "execution_count": 6,
      "outputs": []
    },
    {
      "cell_type": "code",
      "source": [
        "# Print probabilities for first two instances\n",
        "\n",
        "print(y_probas_forest[:2]) # [False True] format"
      ],
      "metadata": {
        "id": "MGsdwxVXyRVP"
      },
      "execution_count": null,
      "outputs": []
    },
    {
      "cell_type": "code",
      "source": [
        "# Plot precision-recall curve\n",
        "# Refresher: What is precision? What is recall?\n",
        "# Are the classes balanced?\n",
        "\n",
        "from sklearn.metrics import precision_recall_curve\n",
        "\n",
        "y_scores_forest = y_probas_forest[:, 1] # positive class probabilities\n",
        "\n",
        "precisions_forest, recalls_forest, thresholds_forest = precision_recall_curve(y_train_5, y_scores_forest)\n"
      ],
      "metadata": {
        "id": "ZD2pVQTEyl51"
      },
      "execution_count": 8,
      "outputs": []
    },
    {
      "cell_type": "code",
      "source": [
        "plt.plot(recalls_forest, precisions_forest, \"b-\", linewidth=2, label=\"Random Forest\")\n",
        "plt.xlabel(\"Recall\", fontsize=16)\n",
        "plt.ylabel(\"Precision\", fontsize=16)\n",
        "plt.legend(loc=\"lower left\", fontsize=16)\n",
        "plt.show()"
      ],
      "metadata": {
        "id": "oOQaS7ywzGXg"
      },
      "execution_count": null,
      "outputs": []
    },
    {
      "cell_type": "code",
      "source": [
        "# Train RandomForestClassifier on training and test set\n",
        "\n",
        "# Train classifier\n",
        "forest_clf = RandomForestClassifier(random_state=42)\n",
        "forest_clf.fit(X_train, y_train_5)\n",
        "\n",
        "# Predict probabilities on test set\n",
        "y_probas_forest = forest_clf.predict_proba(X_test)"
      ],
      "metadata": {
        "id": "IKTfUvWkByy7"
      },
      "execution_count": 12,
      "outputs": []
    },
    {
      "cell_type": "markdown",
      "source": [
        "### Multi-class prediction"
      ],
      "metadata": {
        "id": "ohJEqnwH0mwz"
      }
    },
    {
      "cell_type": "code",
      "source": [
        "from sklearn.model_selection import cross_val_score\n",
        "\n",
        "cross_val_score(forest_clf, X_train[:1000], y_train[:1000], cv=3, scoring=\"accuracy\")\n",
        "\n",
        "# Over 85% accuracy on all folds. Much better than 10% baseline\n",
        "# Is this surprising?"
      ],
      "metadata": {
        "id": "ypq4QrWX1WW6"
      },
      "execution_count": null,
      "outputs": []
    },
    {
      "cell_type": "code",
      "source": [
        "# Confusion matrix\n",
        "\n",
        "from sklearn.metrics import ConfusionMatrixDisplay\n",
        "\n",
        "# Takes 1-2 minutes\n",
        "y_train_pred = cross_val_predict(forest_clf, X_train, y_train, cv=3)"
      ],
      "metadata": {
        "id": "4MzpIXuO2Atq"
      },
      "execution_count": 13,
      "outputs": []
    },
    {
      "cell_type": "code",
      "source": [
        "ConfusionMatrixDisplay.from_predictions(y_train, y_train_pred)\n",
        "plt.show()"
      ],
      "metadata": {
        "id": "FEvcQ5ASXDl6"
      },
      "execution_count": null,
      "outputs": []
    },
    {
      "cell_type": "code",
      "source": [
        "# 5 minute exercise\n",
        "# Explain this diagram and the major findings to a business audience.\n",
        "# Why are the numbers along the diagonal largest?\n",
        "# What numbers get confused with other numbers?"
      ],
      "metadata": {
        "id": "tIdYRhrzXLr1"
      },
      "execution_count": null,
      "outputs": []
    },
    {
      "cell_type": "code",
      "source": [
        "# Show percentages\n",
        "ConfusionMatrixDisplay.from_predictions(y_train, y_train_pred, normalize=\"true\", values_format=\".0%\")"
      ],
      "metadata": {
        "id": "JWZihA-RXmOu"
      },
      "execution_count": null,
      "outputs": []
    },
    {
      "cell_type": "code",
      "source": [
        "# 5 minute exercise\n",
        "# Explain this confusion matrix\n",
        "# What number is the easiest to classify (i.e., has the highest classification accuracy)? Why do you think it is easy to classify?\n",
        "# Which number is the hardest to classify? Why\n",
        "\n"
      ],
      "metadata": {
        "id": "LDDIlbnOX-7P"
      },
      "execution_count": null,
      "outputs": []
    },
    {
      "cell_type": "code",
      "source": [
        "# 5 minute exercise\n",
        "# Modify the ConfusionMatrixDisplay command to show additional precision"
      ],
      "metadata": {
        "id": "nFbRAixX-ZEH"
      },
      "execution_count": null,
      "outputs": []
    },
    {
      "cell_type": "code",
      "source": [
        "# Zero out diagonal to make errors clearer\n",
        "\n",
        "sample_weight = (y_train_pred != y_train)\n",
        "ConfusionMatrixDisplay.from_predictions(y_train, y_train_pred, sample_weight=sample_weight, normalize=\"true\", values_format=\".0%\")"
      ],
      "metadata": {
        "id": "c4XSqjUDYgiL"
      },
      "execution_count": null,
      "outputs": []
    },
    {
      "cell_type": "code",
      "source": [
        "# Examine 8 and 0 being confused\n",
        "cl_a, cl_b = '8', '0'\n",
        "X_aa = X_train[(y_train == cl_a) & (y_train_pred == cl_a)]\n",
        "X_ab = X_train[(y_train == cl_a) & (y_train_pred == cl_b)]\n",
        "X_ba = X_train[(y_train == cl_b) & (y_train_pred == cl_a)]\n",
        "X_bb = X_train[(y_train == cl_b) & (y_train_pred == cl_b)]\n",
        "\n"
      ],
      "metadata": {
        "id": "ziHnXQRHYfAR"
      },
      "execution_count": 17,
      "outputs": []
    },
    {
      "cell_type": "code",
      "source": [
        "print(X_aa[0].shape)"
      ],
      "metadata": {
        "id": "xCtap3Qjbm2u"
      },
      "execution_count": null,
      "outputs": []
    },
    {
      "cell_type": "code",
      "source": [
        "# Magic code\n",
        "import numpy as np\n",
        "\n",
        "def plot_digits(instances, images_per_row=10, **options):\n",
        "    size = 28\n",
        "    images_per_row = min(len(instances), images_per_row)\n",
        "    # This is equivalent to n_rows = ceil(len(instances) / images_per_row):\n",
        "    n_rows = (len(instances) - 1) // images_per_row + 1\n",
        "\n",
        "    # Append empty images to fill the end of the grid, if needed:\n",
        "    n_empty = n_rows * images_per_row - len(instances)\n",
        "    padded_instances = np.concatenate([instances, np.zeros((n_empty, size * size))], axis=0)\n",
        "\n",
        "    # Reshape the array so it's organized as a grid containing 28×28 images:\n",
        "    image_grid = padded_instances.reshape((n_rows, images_per_row, size, size))\n",
        "\n",
        "    # Combine axes 0 and 2 (vertical image grid axis, and vertical image axis),\n",
        "    # and axes 1 and 3 (horizontal axes). We first need to move the axes that we\n",
        "    # want to combine next to each other, using transpose(), and only then we\n",
        "    # can reshape:\n",
        "    big_image = image_grid.transpose(0, 2, 1, 3).reshape(n_rows * size,\n",
        "                                                         images_per_row * size)\n",
        "    # Now that we have a big image, we just need to show it:\n",
        "    plt.imshow(big_image, cmap = mpl.cm.binary, **options)\n",
        "    plt.axis(\"off\")"
      ],
      "metadata": {
        "id": "PwmMWwCOdG67"
      },
      "execution_count": 19,
      "outputs": []
    },
    {
      "cell_type": "code",
      "source": [
        "import matplotlib as mpl\n",
        "\n",
        "plt.figure(figsize=(8,8))\n",
        "plt.subplot(221); plot_digits(X_aa[:25], images_per_row=5)\n",
        "plt.subplot(222); plot_digits(X_ab[:25], images_per_row=5)\n",
        "plt.subplot(223); plot_digits(X_ba[:25], images_per_row=5)\n",
        "plt.subplot(224); plot_digits(X_bb[:25], images_per_row=5)\n",
        "\n",
        "# Magic code\n",
        "fig = plt.gcf()\n",
        "fig.text(0.5, 0.04, 'Predicted Label', ha='center')\n",
        "fig.text(0.04, 0.5, 'True Label', va='center', rotation='vertical')\n",
        "fig.text(0.1, 0.8, '8', ha='center', fontsize=12)\n",
        "fig.text(0.3, 0.1, '8', ha='center', fontsize=12)\n",
        "fig.text(0.1, 0.3, '0', ha='center', fontsize=12)\n",
        "fig.text(0.8, 0.1, '0', ha='center', fontsize=12)\n",
        "\n",
        "plt.show()"
      ],
      "metadata": {
        "id": "FrGjHer4c-oV"
      },
      "execution_count": null,
      "outputs": []
    },
    {
      "cell_type": "code",
      "source": [
        "# 5 minute exercise\n",
        "# Modify the code to compare '3' and '5'"
      ],
      "metadata": {
        "id": "cE20x9TShCUq"
      },
      "execution_count": 21,
      "outputs": []
    },
    {
      "cell_type": "markdown",
      "source": [
        "### Image processing with CNN"
      ],
      "metadata": {
        "id": "dAnl3Pnh1ymk"
      }
    },
    {
      "cell_type": "code",
      "source": [
        "from numpy import mean\n",
        "from numpy import std\n",
        "from matplotlib import pyplot as plt\n",
        "from sklearn.model_selection import KFold\n",
        "from keras.datasets import mnist\n",
        "from keras.utils import to_categorical\n",
        "from keras.models import Sequential\n",
        "from keras.layers import Conv2D\n",
        "from keras.layers import MaxPooling2D\n",
        "from keras.layers import Dense\n",
        "from keras.layers import Flatten\n",
        "from keras.optimizers import SGD"
      ],
      "metadata": {
        "id": "_Mbml7AS11k9"
      },
      "execution_count": 22,
      "outputs": []
    },
    {
      "cell_type": "code",
      "source": [
        "# load the dataset\n",
        "(trainX, trainY), (testX, testY) = mnist.load_data()"
      ],
      "metadata": {
        "id": "a6754tkQ1-Xw"
      },
      "execution_count": null,
      "outputs": []
    },
    {
      "cell_type": "code",
      "source": [
        "# 5 minute exercise\n",
        "# What is the size of trainX, trainY, testX, testY"
      ],
      "metadata": {
        "id": "Z4I9UraiDrQd"
      },
      "execution_count": null,
      "outputs": []
    },
    {
      "cell_type": "code",
      "source": [
        "# preprocessing - minimal\n",
        "trainX = trainX.reshape((trainX.shape[0], 28, 28, 1))\n",
        "testX = testX.reshape((testX.shape[0], 28, 28, 1))\n",
        "trainY = to_categorical(trainY)\n",
        "testY = to_categorical(testY)"
      ],
      "metadata": {
        "id": "kd2gcP-c2J7s"
      },
      "execution_count": 24,
      "outputs": []
    },
    {
      "cell_type": "code",
      "source": [
        "# normalize pixel values to 0 to 1\n",
        "trainX = trainX.astype('float32') / 255\n",
        "testX = testX.astype('float32') / 255"
      ],
      "metadata": {
        "id": "_19hyjhh2ORe"
      },
      "execution_count": 25,
      "outputs": []
    },
    {
      "cell_type": "code",
      "source": [
        "# define the model\n",
        "# in keras, every layer is defined\n",
        "# then all layers are combined into a neural network\n",
        "\n",
        "model = Sequential()\n",
        "# 32 filters 3x3 convolution of 28x28 image\n",
        "model.add(Conv2D(32, (3, 3), activation='relu', kernel_initializer='he_uniform', input_shape=(28, 28, 1)))\n",
        "# Takes max value from 2x2 grid\n",
        "model.add(MaxPooling2D((2, 2)))\n",
        "# Previous two layers output 2D, this converts to 1D\n",
        "model.add(Flatten())\n",
        "# 'Standard' layer with 100 neurons, densely connected\n",
        "model.add(Dense(100, activation='relu', kernel_initializer='he_uniform'))\n",
        "# 'Standard' layer with 10 neurons, softmax = multi-class probability\n",
        "model.add(Dense(10, activation='softmax'))"
      ],
      "metadata": {
        "id": "zNsqjH0L2VlK"
      },
      "execution_count": 26,
      "outputs": []
    },
    {
      "cell_type": "code",
      "source": [
        "# optimizer: how to update weights\n",
        "opt = SGD(learning_rate=0.01, momentum=0.9)\n",
        "model.compile(optimizer=opt, loss='categorical_crossentropy', metrics=['accuracy'])"
      ],
      "metadata": {
        "id": "U8BwUwAa2g9k"
      },
      "execution_count": 27,
      "outputs": []
    },
    {
      "cell_type": "code",
      "source": [
        "# train model - takes 5+ minutes\n",
        "model.fit(trainX, trainY, epochs=10, batch_size=32, validation_data=(testX, testY))"
      ],
      "metadata": {
        "id": "4ZU-rOE92l4O"
      },
      "execution_count": null,
      "outputs": []
    },
    {
      "cell_type": "code",
      "source": [
        "# compute accuracy\n",
        "_, acc = model.evaluate(testX, testY, verbose=0)\n",
        "print('> %.3f' % (acc * 100.0))"
      ],
      "metadata": {
        "id": "z_ZOVnCc4jYq"
      },
      "execution_count": null,
      "outputs": []
    },
    {
      "cell_type": "code",
      "source": [
        "# 5 minute exercise\n",
        "# Compare to randomforest model"
      ],
      "metadata": {
        "id": "u-yviN3g4obU"
      },
      "execution_count": null,
      "outputs": []
    },
    {
      "cell_type": "code",
      "source": [
        "# 10 minute exercise\n",
        "# Modify the CNN. What happens to the accuracy?\n",
        "# Try: Reducing the number of filters from 32 to 4\n",
        "# model.add(Conv2D(32, (3, 3)"
      ],
      "metadata": {
        "id": "3-W_hJYl4r40"
      },
      "execution_count": null,
      "outputs": []
    },
    {
      "cell_type": "code",
      "source": [
        "# The End"
      ],
      "metadata": {
        "id": "PEFssvPWBhot"
      },
      "execution_count": null,
      "outputs": []
    }
  ]
}