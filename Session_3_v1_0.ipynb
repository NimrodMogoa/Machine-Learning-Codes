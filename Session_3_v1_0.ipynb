{
  "nbformat": 4,
  "nbformat_minor": 0,
  "metadata": {
    "colab": {
      "provenance": []
    },
    "kernelspec": {
      "name": "python3",
      "display_name": "Python 3"
    },
    "language_info": {
      "name": "python"
    }
  },
  "cells": [
    {
      "cell_type": "markdown",
      "source": [
        "# Session 3\n",
        "\n",
        "* Clustering: K-means Clustering (Customer Segmentation)\n",
        "* Clustering: Hierarchical (Stock Analysis)\n",
        "*   Feature Engineering\n",
        "* Feature Selection\n",
        "* Metrics (Classification, Regression)\n",
        "\n",
        "\n",
        "\n",
        "---\n",
        "\n",
        "Version 1.0\n",
        "\n",
        "Michael de la Maza\n",
        "\n",
        "AI/ML\n",
        "\n",
        "Hult International business School\n",
        "\n",
        "Adapted from \"Approaching (Almost) Any Machine Learning Problem\" by Abhishek Thakur"
      ],
      "metadata": {
        "id": "S_HAXIepkMRJ"
      }
    },
    {
      "cell_type": "markdown",
      "source": [
        "# Clustering: K-means"
      ],
      "metadata": {
        "id": "al96uDACws2w"
      }
    },
    {
      "cell_type": "code",
      "source": [
        "# Customer segmentation - Marketing case study\n",
        "\n",
        "import numpy as np\n",
        "import pandas as pd\n",
        "from sklearn.cluster import KMeans\n",
        "from matplotlib import pyplot as plt\n",
        "import seaborn as sns\n"
      ],
      "metadata": {
        "id": "cjnC94fHwx2x"
      },
      "execution_count": 161,
      "outputs": []
    },
    {
      "cell_type": "code",
      "source": [
        "dataset = pd.read_csv('Mall_Customers.csv')"
      ],
      "metadata": {
        "id": "iRowFT6OyvWe"
      },
      "execution_count": 162,
      "outputs": []
    },
    {
      "cell_type": "code",
      "source": [
        "dataset.head()"
      ],
      "metadata": {
        "id": "TpOoqVbOy_T8"
      },
      "execution_count": null,
      "outputs": []
    },
    {
      "cell_type": "code",
      "source": [
        "dataset.shape"
      ],
      "metadata": {
        "id": "_lUSpjoszE1f"
      },
      "execution_count": null,
      "outputs": []
    },
    {
      "cell_type": "code",
      "source": [
        "# Histogram of Annual income\n",
        "\n",
        "sns.histplot(dataset['Annual Income (k$)'],bins=50)\n",
        "\n",
        "# What do we see? Most income is between $60K and $90K"
      ],
      "metadata": {
        "id": "OsmnlkBfzH62"
      },
      "execution_count": null,
      "outputs": []
    },
    {
      "cell_type": "code",
      "source": [
        "# Histogram of spending score\n",
        "\n",
        "sns.histplot(dataset['Spending Score (1-100)'], bins=50)\n",
        "\n",
        "# What do we see? Most customers have a spending score between 40 and 60"
      ],
      "metadata": {
        "id": "3wOZC2jqzlRC"
      },
      "execution_count": null,
      "outputs": []
    },
    {
      "cell_type": "code",
      "source": [
        "# Relationship between annual income and spending score\n",
        "# Regplot produces linear regression\n",
        "\n",
        "sns.regplot(x=\"Annual Income (k$)\", y=\"Spending Score (1-100)\", data=dataset)\n",
        "\n",
        "# What does it show? Not much of a relationship!"
      ],
      "metadata": {
        "id": "Z0lja2jTzzUO"
      },
      "execution_count": null,
      "outputs": []
    },
    {
      "cell_type": "code",
      "source": [
        "# Relationship between Age and Spending score\n",
        "\n",
        "sns.regplot(x=\"Age\", y=\"Spending Score (1-100)\", data=dataset)\n",
        "\n",
        "# What does it show? Negative relationship!"
      ],
      "metadata": {
        "id": "gf8JRwqw0R8J"
      },
      "execution_count": null,
      "outputs": []
    },
    {
      "cell_type": "code",
      "source": [
        "# K-means clustering\n",
        "\n",
        "# Focus on annual income and spending score\n",
        "\n",
        "dataset = dataset.filter([\"Annual Income (k$)\", \"Spending Score (1-100)\"], axis=1)\n",
        "\n",
        "dataset.head()"
      ],
      "metadata": {
        "id": "liLYVHW20nNR"
      },
      "execution_count": null,
      "outputs": []
    },
    {
      "cell_type": "code",
      "source": [
        "# Define object and train\n",
        "\n",
        "km_model = KMeans(n_clusters = 4, n_init='auto', random_state=42)\n",
        "km_model.fit(dataset)\n",
        "\n",
        "print(km_model.cluster_centers_)\n"
      ],
      "metadata": {
        "id": "o6DycLgG1O5-"
      },
      "execution_count": null,
      "outputs": []
    },
    {
      "cell_type": "code",
      "source": [
        "# See labels for all samples\n",
        "\n",
        "print(km_model.labels_)"
      ],
      "metadata": {
        "id": "kUGSySRl1ux5"
      },
      "execution_count": null,
      "outputs": []
    },
    {
      "cell_type": "code",
      "source": [
        "# Visualize\n",
        "# Data points\n",
        "\n",
        "plt.scatter(dataset.values[:,0], dataset.values[:,1], c=km_model.labels_, cmap='rainbow')\n",
        "\n",
        "# Centroids\n",
        "plt.scatter(km_model.cluster_centers_[:,0], km_model.cluster_centers_[:,1], s=100, c='black')\n",
        "\n",
        "plt.xlabel('Income')\n",
        "plt.ylabel('Spending Score')"
      ],
      "metadata": {
        "id": "dyfiZQPj19uu"
      },
      "execution_count": null,
      "outputs": []
    },
    {
      "cell_type": "code",
      "source": [
        "# Select K using elbow method\n",
        "\n",
        "# Search K from 1 to 10\n",
        "\n",
        "loss = []\n",
        "\n",
        "for i in range(1, 11):\n",
        "  km = KMeans(n_clusters = i, n_init='auto', random_state=42).fit(dataset)\n",
        "  loss.append(km.inertia_)\n",
        "\n",
        "# Plot elbow curve\n",
        "import matplotlib.pyplot as plt\n",
        "plt.plot(range(1,11), loss)\n",
        "plt.title(\"Finding Optimal K via Elbow Method\")\n",
        "plt.xlabel(\"Number of clusters\")\n",
        "plt.ylabel(\"Loss\")\n",
        "plt.xticks(range(1, 11))\n",
        "plt.show()\n",
        "\n",
        "# What is the best K?"
      ],
      "metadata": {
        "id": "Ub158W6u23oa"
      },
      "execution_count": null,
      "outputs": []
    },
    {
      "cell_type": "code",
      "source": [
        "# Redo with K=5\n",
        "\n",
        "km_model = KMeans(n_clusters = 5, n_init='auto')\n",
        "km_model.fit(dataset)\n",
        "\n",
        "# Visualize\n",
        "# Data points\n",
        "\n",
        "plt.scatter(dataset.values[:,0], dataset.values[:,1], c=km_model.labels_, cmap='rainbow')\n",
        "\n",
        "# Centroids\n",
        "plt.scatter(km_model.cluster_centers_[:,0], km_model.cluster_centers_[:,1], s=100, c='black')\n",
        "\n",
        "plt.xlabel('Income')\n",
        "plt.ylabel('Spending Score')"
      ],
      "metadata": {
        "id": "ezrE_iNj4Ph5"
      },
      "execution_count": null,
      "outputs": []
    },
    {
      "cell_type": "code",
      "source": [
        "# Which customers belong to the high income, high spending score cluster?\n",
        "\n",
        "print(km_model.cluster_centers_)\n",
        "print(km_model.labels_)\n",
        "\n",
        "dataset = pd.read_csv('Mall_Customers.csv')\n",
        "\n",
        "dataset_labels = dataset\n",
        "\n",
        "dataset_labels['label'] = km_model.labels_\n",
        "\n",
        "dataset_labels\n",
        "\n",
        "# High income/high spending score cluster = 86.5, 82.1"
      ],
      "metadata": {
        "id": "BrRlHx-b4fLX"
      },
      "execution_count": null,
      "outputs": []
    },
    {
      "cell_type": "code",
      "source": [
        "# 5 minute exercise\n",
        "\n",
        "# After listening to your analysis, one of your colleagues suggests a different approach.\n",
        "# Instead of focusing on high income/high spending score customers, focus on\n",
        "# high income/low spending customers and encourage them to increase spending.\n",
        "\n",
        "# What cluster corresponds to high income/low spending in the graph above?\n",
        "# What is the cluster number? What are the values for income and spending score?\n",
        "# How many people are in this cluster?\n",
        "\n",
        "\n",
        "\n"
      ],
      "metadata": {
        "id": "GkqBP-H19lwJ"
      },
      "execution_count": 175,
      "outputs": []
    },
    {
      "cell_type": "markdown",
      "source": [
        "## Hierarchical clustering: Pharmaceutical companies"
      ],
      "metadata": {
        "id": "7MOX3zyWBMWR"
      }
    },
    {
      "cell_type": "code",
      "source": [
        "# load dataset\n",
        "pharma_df = pd.read_csv('Pharmaceuticals.csv')\n",
        "pharma_df.set_index('Symbol', inplace=True)\n",
        "pharma_df"
      ],
      "metadata": {
        "id": "TfsvcpJZBLgR"
      },
      "execution_count": null,
      "outputs": []
    },
    {
      "cell_type": "code",
      "source": [
        "# Drop columns that are not of interest for this analysis\n",
        "\n",
        "pharma_data = pharma_df.drop(columns=['Name', 'Median_Recommendation', 'Location', 'Exchange'])\n",
        "pharma_data"
      ],
      "metadata": {
        "id": "J_9rq2Y1B5YK"
      },
      "execution_count": null,
      "outputs": []
    },
    {
      "cell_type": "code",
      "source": [
        "# Standardize values - z score\n",
        "from sklearn import preprocessing\n",
        "\n",
        "pharma_norm = pharma_data.apply(preprocessing.scale, axis=0)\n",
        "pharma_norm.head()"
      ],
      "metadata": {
        "id": "2sNQzssoCJc1"
      },
      "execution_count": null,
      "outputs": []
    },
    {
      "cell_type": "code",
      "source": [
        "# Create dendogram\n",
        "# Scipy for scientific computing\n",
        "from scipy.cluster.hierarchy import linkage, dendrogram, fcluster\n",
        "\n",
        "# Create dendogram\n",
        "Z = linkage(pharma_norm, method='ward')\n",
        "\n",
        "# Plot dendogram\n",
        "fig, axes = plt.subplots(nrows=1, ncols=1, figsize=(10, 7), squeeze=False)\n",
        "ax = axes[0,0]\n",
        "#dendrogram(Z, color_threshold=0, ax=ax, no_labels=True)\n",
        "dendrogram(Z, color_threshold=0, ax=ax, labels=pharma_norm.index)\n",
        "\n"
      ],
      "metadata": {
        "id": "dMPCVnhUCnWP"
      },
      "execution_count": null,
      "outputs": []
    },
    {
      "cell_type": "code",
      "source": [
        "# Assign a cluster number to each data point\n",
        "memb = fcluster(Z, 4, criterion='maxclust')\n",
        "\n"
      ],
      "metadata": {
        "id": "QbBmls3cE5ZE"
      },
      "execution_count": 180,
      "outputs": []
    },
    {
      "cell_type": "code",
      "source": [
        "# What companies are in which clusters?\n",
        "\n",
        "# Utility code\n",
        "# Create a dictionary to store original indices for each cluster\n",
        "cluster_indices = {}\n",
        "for i, cluster in enumerate(memb):\n",
        "  if cluster not in cluster_indices:\n",
        "    cluster_indices[cluster] = []\n",
        "  cluster_indices[cluster].append(pharma_data.index[i])\n",
        "\n",
        "# Print cluster number and original indices\n",
        "for cluster, indices in cluster_indices.items():\n",
        "  print(f\"\\nCluster {cluster}:\")\n",
        "  print(indices)"
      ],
      "metadata": {
        "id": "Ee4tx7umlJd9"
      },
      "execution_count": null,
      "outputs": []
    },
    {
      "cell_type": "code",
      "source": [
        "# Show average values for each cluster\n",
        "\n",
        "cluster_data = {}\n",
        "for key, item in pharma_data.groupby(memb):\n",
        "    cluster_data['Cluster {}'.format(key)] = item.mean()\n",
        "\n",
        "pd.DataFrame(cluster_data).round(2)"
      ],
      "metadata": {
        "id": "1kMzVR07FV6u"
      },
      "execution_count": null,
      "outputs": []
    },
    {
      "cell_type": "code",
      "source": [
        "# 5 minute exercise\n",
        "\n",
        "# Describe each cluster\n",
        "# Cluster: Large (market cap), fast growing (Rev_growth), highly profitable (Net_profit_margin)"
      ],
      "metadata": {
        "id": "SV7v2ToNFobh"
      },
      "execution_count": 183,
      "outputs": []
    },
    {
      "cell_type": "markdown",
      "source": [],
      "metadata": {
        "id": "DWyxl0a3y-jz"
      }
    },
    {
      "cell_type": "markdown",
      "source": [
        "# Feature Engineering"
      ],
      "metadata": {
        "id": "rk973qE5EXom"
      }
    },
    {
      "cell_type": "code",
      "source": [
        "# Create dataframe with random values for two features\n",
        "\n",
        "import numpy as np\n",
        "import pandas as pd\n",
        "\n",
        "df = pd.DataFrame(np.random.rand(100,2), columns=['f_1','f_2'])\n",
        "\n",
        "df.head()"
      ],
      "metadata": {
        "id": "kN3PWHcTEbqH"
      },
      "execution_count": null,
      "outputs": []
    },
    {
      "cell_type": "code",
      "source": [
        "# Create polynomial features. Similar to what we did in linear regression.\n",
        "\n",
        "from sklearn import preprocessing\n",
        "\n",
        "pf = preprocessing.PolynomialFeatures(\n",
        "    degree = 2, # [1, a, b, a^2, ab, b^2]\n",
        "    include_bias=False\n",
        ")\n",
        "\n",
        "# apply to the features\n",
        "pf.fit(df)\n",
        "\n",
        "# create polynomial features and create new dataframe\n",
        "poly_feats = pf.transform(df)\n",
        "\n",
        "# Get number of features\n",
        "num_feats = poly_feats.shape[1]\n",
        "\n",
        "df_transformed = pd.DataFrame(poly_feats, columns=[f'f_{i}' for i in range(1,num_feats+1)])\n",
        "\n",
        "df_transformed.head()\n",
        "\n",
        "# Can create third-degree, fourth-degree, etc. polynomial features"
      ],
      "metadata": {
        "id": "w8gf060kFIPQ"
      },
      "execution_count": null,
      "outputs": []
    },
    {
      "cell_type": "code",
      "source": [
        "# Binning continuous features\n",
        "# Binning can be used to 'convert' continuous features to categorical (e.g., temperature)\n",
        "\n",
        "df[\"f_bin_10\"] = pd.cut(df[\"f_1\"], bins=10, labels=False)\n",
        "df[\"f_bin_100\"] = pd.cut(df[\"f_1\"], bins=100, labels=False)\n",
        "\n",
        "df.head()"
      ],
      "metadata": {
        "id": "meRk6X3OGkfL"
      },
      "execution_count": null,
      "outputs": []
    },
    {
      "cell_type": "markdown",
      "source": [
        "# Feature Selection"
      ],
      "metadata": {
        "id": "ZBUMMhRDIeRp"
      }
    },
    {
      "cell_type": "code",
      "source": [
        "# Eliminate highly correlated features - collinearity\n",
        "\n",
        "import pandas as pd\n",
        "\n",
        "from sklearn.datasets import fetch_california_housing\n",
        "\n",
        "# California housing is a dataset that is good for regression\n",
        "data = fetch_california_housing()\n",
        "X = data[\"data\"]\n",
        "col_names = data[\"feature_names\"]\n",
        "y = data[\"target\"]\n",
        "\n",
        "df = pd.DataFrame(X, columns=col_names)\n",
        "\n",
        "# Add a highly correlated feature\n",
        "\n",
        "df.loc[:, \"MedInc_Sqrt\"] = df.MedInc.apply(np.sqrt)\n",
        "\n",
        "df.corr()"
      ],
      "metadata": {
        "id": "8OMVWEAnHiCM"
      },
      "execution_count": null,
      "outputs": []
    },
    {
      "cell_type": "code",
      "source": [
        "# Use Recursive Feature Elimination (RFE) to select features\n",
        "\n",
        "from sklearn.feature_selection import RFE\n",
        "from sklearn.linear_model import LinearRegression\n",
        "\n",
        "model = LinearRegression()\n",
        "\n",
        "rfe = RFE(estimator=model, n_features_to_select=3)\n",
        "\n",
        "rfe.fit(X, y)\n",
        "\n",
        "X_transformed = rfe.transform(X)\n",
        "\n",
        "# Which features were selected?\n",
        "selected_features_mask = rfe.support_\n",
        "selected_features_names = [col_names[i] for i in range(len(col_names)) if selected_features_mask[i]]\n",
        "\n",
        "print(selected_features_names)\n",
        "\n"
      ],
      "metadata": {
        "id": "-3ZkZCkyKOOL"
      },
      "execution_count": null,
      "outputs": []
    },
    {
      "cell_type": "code",
      "source": [
        "# Use importances to select features for decision tree\n",
        "# importance: higher the score the better\n",
        "# The more a feature is chosen and the better it does of splitting (reducing impurity), the higher the importance\n",
        "# diabetes dataset (regression): predict disease progression after one year\n",
        "\n",
        "from sklearn.datasets import load_diabetes\n",
        "from sklearn.ensemble import RandomForestRegressor\n",
        "\n",
        "data = load_diabetes()\n",
        "X = data[\"data\"]\n",
        "col_names = data[\"feature_names\"]\n",
        "y = data[\"target\"]\n",
        "\n",
        "model = RandomForestRegressor()\n",
        "\n",
        "model.fit(X,y)\n",
        "\n",
        "\n",
        "#plot importance\n",
        "importances = model.feature_importances_\n",
        "idxs = np.argsort(importances)\n",
        "plt.title('Diabetes dataset feature importances')\n",
        "plt.barh(range(len(idxs)), importances[idxs], align='center')\n",
        "plt.yticks(range(len(idxs)), [col_names[i] for i in idxs])\n",
        "plt.xlabel('Feature importance')\n",
        "plt.show()\n",
        "\n"
      ],
      "metadata": {
        "id": "8AnhL__SOorZ"
      },
      "execution_count": null,
      "outputs": []
    },
    {
      "cell_type": "code",
      "source": [
        "# Use SelectFromModel, a very sophisticated general function\n",
        "# Can be used for both regressors and classifiers\n",
        "\n",
        "from sklearn.feature_selection import SelectFromModel\n",
        "\n",
        "sfm = SelectFromModel(estimator=model)\n",
        "X_transformed=sfm.fit_transform(X,y)\n",
        "\n",
        "selected_features_mask = sfm.get_support()\n",
        "\n",
        "selected_features_names = [col_names[i] for i in range(len(col_names)) if selected_features_mask[i]]\n",
        "\n",
        "print(selected_features_names)\n",
        "\n",
        "# Note that it matches the above!\n"
      ],
      "metadata": {
        "id": "BWEEaRbBQo51"
      },
      "execution_count": null,
      "outputs": []
    },
    {
      "cell_type": "markdown",
      "source": [
        "# Metrics"
      ],
      "metadata": {
        "id": "mNVJ7tkBgHqu"
      }
    },
    {
      "cell_type": "markdown",
      "source": [
        "## Classification"
      ],
      "metadata": {
        "id": "ft9AjD3ogHqu"
      }
    },
    {
      "cell_type": "code",
      "execution_count": 191,
      "metadata": {
        "id": "HXK-IFy8gHqu"
      },
      "outputs": [],
      "source": [
        "# Accuracy: Returns percent accuracy\n",
        "# Does not focus on error checking\n",
        "\n",
        "def accuracy(y_true, y_pred):\n",
        "  correct = 0\n",
        "\n",
        "  for yt, yp in zip(y_true, y_pred):\n",
        "    if yt == yp: correct += 1\n",
        "\n",
        "  return correct / len (y_true)"
      ]
    },
    {
      "cell_type": "code",
      "source": [
        "# Compare accuracy to sklearn accuracy\n",
        "\n",
        "from sklearn import metrics\n",
        "\n",
        "y1 = [0,0,1,0,0,1,0,1]\n",
        "y2 = [1,1,0,1,1,1,0,1]\n",
        "\n",
        "print(metrics.accuracy_score(y1,y2))\n",
        "print(accuracy(y1,y2))"
      ],
      "metadata": {
        "id": "U69L7X5EgHqu"
      },
      "execution_count": null,
      "outputs": []
    },
    {
      "cell_type": "code",
      "source": [
        "# True positive, true negative, false positive, and false negative are 'foundational'\n",
        "# They can be combined in various ways to create other metrics, such as recall, precision, F1\n",
        "\n",
        "def true_positive (y_true, y_pred):\n",
        "  tp = 0\n",
        "  for yt, yp in zip(y_true, y_pred):\n",
        "    if (yt == 1) and (yp == 1):\n",
        "      tp+=1\n",
        "\n",
        "  return tp\n",
        "\n",
        "def true_negative(y_true, y_pred):\n",
        "  tn = 0\n",
        "  for yt, yp in zip(y_true, y_pred):\n",
        "    if (yt == 0) and (yp == 0):\n",
        "      tn+=1\n",
        "\n",
        "  return tn\n",
        "\n",
        "# predict positive (1), but actually negative (0)\n",
        "def false_positive(y_true, y_pred):\n",
        "  fp = 0\n",
        "  for yt, yp in zip(y_true, y_pred):\n",
        "    if (yt == 0) and (yp == 1):\n",
        "      fp+=1\n",
        "\n",
        "  return fp\n",
        "\n",
        "# predict negative (0), but actually positive (1)\n",
        "def false_negative(y_true, y_pred):\n",
        "  fn = 0\n",
        "  for yt, yp in zip(y_true, y_pred):\n",
        "    if (yt == 1) and (yp == 0):\n",
        "      fn+=1\n",
        "\n",
        "  return fn\n",
        "\n",
        "\n"
      ],
      "metadata": {
        "id": "icqrc5G5gHqv"
      },
      "execution_count": 193,
      "outputs": []
    },
    {
      "cell_type": "code",
      "source": [
        "l1 = [0,1,1,1,0,0,0,1]\n",
        "l2 = [0,1,0,1,0,1,0,0]\n",
        "\n",
        "# Before running the code, what are the answers?\n",
        "\n",
        "print(true_positive(l1, l2))\n",
        "print(false_positive(l1,l2))\n",
        "print(false_negative(l1,l2))\n",
        "print(true_negative(l1,l2))"
      ],
      "metadata": {
        "id": "8oSM2w3SgHqv"
      },
      "execution_count": null,
      "outputs": []
    },
    {
      "cell_type": "code",
      "source": [
        "# Note that accuracy = (tp+tn)/(tp+tn+fp+fn)\n",
        "\n",
        "def accuracy_v2(y_true, y_pred):\n",
        "\n",
        "  tp = true_positive(y_true, y_pred)\n",
        "  fp = false_positive(y_true, y_pred)\n",
        "  fn = false_negative(y_true, y_pred)\n",
        "  tn = true_negative(y_true, y_pred)\n",
        "\n",
        "  accuracy_score = (tp + tn)/(tp + tn + fp + fn)\n",
        "\n",
        "  return accuracy_score"
      ],
      "metadata": {
        "id": "iWoxGBpNgHqv"
      },
      "execution_count": 195,
      "outputs": []
    },
    {
      "cell_type": "code",
      "source": [
        "# Compare accuracy, accuracy_v2, scikit accuracy\n",
        "\n",
        "l1 = [0,1,1,1,0,0,0,1]\n",
        "l2 = [0,1,0,1,0,1,0,0]\n",
        "\n",
        "print(accuracy(l1,l2))\n",
        "print(accuracy_v2(l1,l2))\n",
        "print(metrics.accuracy_score(l1,l2))\n"
      ],
      "metadata": {
        "id": "4vqh86hjgHqv"
      },
      "execution_count": null,
      "outputs": []
    },
    {
      "cell_type": "code",
      "source": [
        "# Precision = TP / (TP + FP)\n",
        "# Think: Of all the results that the system returns as positive, what percent are positive?\n",
        "# Application: Google search\n",
        "\n",
        "def precision(y_true, y_pred):\n",
        "\n",
        "  tp = true_positive(y_true, y_pred)\n",
        "  fp = false_positive(y_true, y_pred)\n",
        "\n",
        "  precision = tp / (tp+fp)\n",
        "\n",
        "  return precision"
      ],
      "metadata": {
        "id": "jiocdjL6gHqv"
      },
      "execution_count": 197,
      "outputs": []
    },
    {
      "cell_type": "code",
      "source": [
        "# Test precision\n",
        "\n",
        "# Before running the code, what do you think the answer is?\n",
        "\n",
        "l1 = [0,1,1,1,0,0,0,1]\n",
        "l2 = [0,1,0,1,0,1,0,0]\n",
        "\n",
        "print(precision(l1,l2))"
      ],
      "metadata": {
        "id": "i-ty40aXgHqv"
      },
      "execution_count": null,
      "outputs": []
    },
    {
      "cell_type": "code",
      "source": [
        "# Recall = tp/(tp+fn)\n",
        "# Think: of all of the positive results, what percentage does the system return?\n",
        "# Application: Google search\n",
        "\n",
        "def recall(y_true, y_pred):\n",
        "\n",
        "  tp = true_positive(y_true, y_pred)\n",
        "  fn = false_negative(y_true, y_pred)\n",
        "  recall = tp / (tp + fn)\n",
        "  return recall\n"
      ],
      "metadata": {
        "id": "9XY4rtijgHqv"
      },
      "execution_count": 199,
      "outputs": []
    },
    {
      "cell_type": "code",
      "source": [
        "# Test recall\n",
        "\n",
        "l1 = [0,1,1,1,0,0,0,1]\n",
        "l2 = [0,1,0,1,0,1,0,0]\n",
        "\n",
        "# What do you think the answer is?\n",
        "\n",
        "print(recall(l1,l2))"
      ],
      "metadata": {
        "id": "nxDsIwD1gHqv"
      },
      "execution_count": null,
      "outputs": []
    },
    {
      "cell_type": "code",
      "source": [
        "# F1: Combines both precision and recall into one metric\n",
        "# The goal is to have high precision and recall metrics\n",
        "# F1 = 2*P*R/(P + R)\n",
        "# F1 = 2*TP / (2*TP + FP + FN)\n",
        "\n",
        "def f1(y_true, y_pred):\n",
        "\n",
        "  p = precision(y_true, y_pred)\n",
        "  r = recall(y_true, y_pred)\n",
        "\n",
        "  f1_score = 2*p*r / (p + r)\n",
        "\n",
        "  return f1_score"
      ],
      "metadata": {
        "id": "MxAP-HYvgHqw"
      },
      "execution_count": 201,
      "outputs": []
    },
    {
      "cell_type": "code",
      "source": [
        "#Test F1\n",
        "\n",
        "y_true = [0,0,0,1,0,0,0,0,0,0,1,0,0,0,0,0,0,1,0]\n",
        "y_pred = [0,0,1,0,0,0,1,0,0,1,0,0,0,0,0,0,0,1,0]\n",
        "\n",
        "print(f1(y_true, y_pred))\n",
        "print(metrics.f1_score(y_true,y_pred))"
      ],
      "metadata": {
        "id": "d9tvecq4gHqw"
      },
      "execution_count": null,
      "outputs": []
    },
    {
      "cell_type": "code",
      "source": [
        "# True Positive Rate: same as recall\n",
        "\n",
        "def tpr(y_true, y_pred):\n",
        "  return recall(y_true, y_pred)"
      ],
      "metadata": {
        "id": "Cj0AcJApgHqw"
      },
      "execution_count": 203,
      "outputs": []
    },
    {
      "cell_type": "code",
      "source": [
        "# False Positive Rate (FPR):  the percentage of negative cases that are incorrectly classified as positive\n",
        "# FPR = FP / (TN + FP)\n",
        "# Want this to be as small as possible\n",
        "# Example: spam filter\n",
        "\n",
        "def fpr(y_true, y_pred):\n",
        "  fp = false_positive(y_true, y_pred)\n",
        "  tn = true_negative(y_true, y_pred)\n",
        "\n",
        "  return fp / (tn + fp)\n",
        "\n",
        "\n"
      ],
      "metadata": {
        "id": "Aogj_yvvgHqw"
      },
      "execution_count": 204,
      "outputs": []
    },
    {
      "cell_type": "code",
      "source": [
        "# AUC - Area Under Curve\n",
        "\n",
        "tpr_list = []\n",
        "fpr_list = []\n",
        "\n",
        "y_true = [0,0,0,0,1,0,1,0,0,1,0,1,0,0,1]\n",
        "y_pred = [0.1,0.3,0.2,0.6,0.8,0.05,0.9,0.5,0.3,0.66,0.3,0.2,0.85,0.15,0.99]\n",
        "\n",
        "thresholds = [0,0.1,0.2,0.3,0.4,0.5,0.6,0.7,0.8,0.85,0.9,0.99,1.0]\n",
        "\n",
        "#loop over thresholds\n",
        "for thresh in thresholds:\n",
        "  temp_pred = [1 if x>= thresh else 0 for x in y_pred]\n",
        "  temp_tpr = tpr(y_true, temp_pred)\n",
        "  temp_fpr = fpr(y_true, temp_pred)\n",
        "  tpr_list.append(temp_tpr)\n",
        "  fpr_list.append(temp_fpr)\n",
        "\n",
        "import matplotlib.pyplot as plt\n",
        "\n",
        "plt.figure(figsize=(7, 7))\n",
        "plt.fill_between(fpr_list, tpr_list, alpha=0.4)\n",
        "plt.plot(fpr_list, tpr_list, lw=3)\n",
        "plt.xlim(0, 1.0)\n",
        "plt.ylim(0, 1.0)\n",
        "plt.xlabel('FPR', fontsize=15)\n",
        "plt.ylabel('TPR', fontsize=15)\n",
        "plt.show()\n",
        "\n",
        "\n"
      ],
      "metadata": {
        "colab": {
          "base_uri": "https://localhost:8080/",
          "height": 630
        },
        "outputId": "9999b0b6-aad0-4d57-eefc-7b4d2b74ed44",
        "id": "caECjQIpgHqw"
      },
      "execution_count": 205,
      "outputs": [
        {
          "output_type": "display_data",
          "data": {
            "text/plain": [
              "<Figure size 700x700 with 1 Axes>"
            ],
            "image/png": "[encoded data removed]"
          },
          "metadata": {}
        }
      ]
    },
    {
      "cell_type": "code",
      "source": [
        "# What is the AUC?\n",
        "# It is the area under the curve - the dark area\n",
        "# Perfect algorithm: AUC = 1\n",
        "# Random algorithm: AUC = 0.5\n",
        "\n",
        "metrics.roc_auc_score(y_true, y_pred)"
      ],
      "metadata": {
        "id": "l1an-fQ7gHqw"
      },
      "execution_count": null,
      "outputs": []
    }
  ]
}