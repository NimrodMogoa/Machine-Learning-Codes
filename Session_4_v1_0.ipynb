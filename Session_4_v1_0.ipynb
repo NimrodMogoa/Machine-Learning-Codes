{
  "nbformat": 4,
  "nbformat_minor": 0,
  "metadata": {
    "colab": {
      "provenance": []
    },
    "kernelspec": {
      "name": "python3",
      "display_name": "Python 3"
    },
    "language_info": {
      "name": "python"
    }
  },
  "cells": [
    {
      "cell_type": "markdown",
      "source": [
        "# Session 4\n",
        "\n",
        "Introduction to Neural Networks\n",
        "\n",
        "\n",
        "\n",
        "---\n",
        "\n",
        "\n",
        "\n",
        "Michael de la Maza\n",
        "\n",
        "AI/ML\n",
        "\n",
        "Hult International business School\n",
        "\n",
        "Adapted from \"Data Mining for Business Analytics\" by Shmueli"
      ],
      "metadata": {
        "id": "4UBVSOUypch7"
      }
    },
    {
      "cell_type": "markdown",
      "source": [
        "## Simple Dataset: MLPClassifier"
      ],
      "metadata": {
        "id": "55jhtrYG4wwU"
      }
    },
    {
      "cell_type": "code",
      "execution_count": null,
      "metadata": {
        "id": "FdiQwqCWpSqq"
      },
      "outputs": [],
      "source": [
        "# Extremely simple dataset example\n",
        "\n",
        "import numpy as np\n",
        "import pandas as pd\n",
        "\n",
        "# 5 minute exercise - What pattern do you see in this dataset?\n",
        "# Draw graph\n",
        "\n",
        "creditcard_df = pd.DataFrame({\n",
        "    'Years': [4, 18, 1, 3, 15, 6], # years with credit\n",
        "    'Salary': [43, 65, 53, 95, 88, 112], # salary\n",
        "    'Used_credit': [0, 1, 0, 0, 1, 1], # 1=unpaid credit card balance at end of month\n",
        "})\n",
        "\n",
        "input_df = creditcard_df.drop(columns=['Used_credit'])\n",
        "output_df = creditcard_df.Used_credit\n",
        "\n",
        "X = np.array(input_df)\n",
        "y = np.array(output_df)\n",
        "\n",
        "# We will not split into training and test sets\n",
        "\n",
        "print(X)\n",
        "print(y)\n",
        "\n",
        "\n"
      ]
    },
    {
      "cell_type": "code",
      "source": [
        "# Train neural net with single hidden layer\n",
        "\n",
        "from sklearn.neural_network import MLPClassifier # MLP = multilayer perceptron\n",
        "\n",
        "# Single hidden layer with 3 neurons\n",
        "# Example: hidden_layer_sizes = (3, 4). Two hidden layers with 3 and 4 neurons.\n",
        "clf = MLPClassifier(hidden_layer_sizes=(3), activation='logistic', solver='lbfgs', random_state=42)\n",
        "clf.fit(X, y) # input and output layer automatically determined by data\n",
        "\n",
        "# 5 minute exercise - (1) Draw this neural net. (2) How many weights and biases does it have?\n",
        "\n",
        "# Network structure\n",
        "for i, (weights, intercepts) in enumerate(zip(clf.coefs_, clf.intercepts_)):\n",
        "    print('Hidden layer' if i == 0 else 'Output layer')\n",
        "    print(' Intercepts:\\n ', intercepts)\n",
        "    print(' Weights:')\n",
        "    for weight in weights:\n",
        "        print(' ', weight)\n",
        "    print()\n",
        "\n",
        "print(clf.out_activation_) # Note: Output node is logistic."
      ],
      "metadata": {
        "id": "evwPUF5Jqz0b"
      },
      "execution_count": null,
      "outputs": []
    },
    {
      "cell_type": "code",
      "source": [
        "# Print predictions\n",
        "\n",
        "print(pd.concat([\n",
        "    creditcard_df,\n",
        "    pd.DataFrame(clf.predict_proba(X), columns=[0, 1])\n",
        "], axis=1))\n",
        "\n",
        "# How many does it get right? How many does it get wrong? (assume cutoff of 0.5)"
      ],
      "metadata": {
        "id": "jSdUqlMetHcu"
      },
      "execution_count": null,
      "outputs": []
    },
    {
      "cell_type": "code",
      "source": [
        "# Neural network description\n",
        "\n",
        "print('Output nodes:', clf.n_outputs_)\n",
        "print('Number of layers:', clf.n_layers_)\n",
        "print('Number of features:', clf.n_features_in_)\n",
        "print('Classes', clf.classes_)\n"
      ],
      "metadata": {
        "id": "aXqccj2FyxLq"
      },
      "execution_count": null,
      "outputs": []
    },
    {
      "cell_type": "code",
      "source": [
        "# Inputs to neural networks should (almost) always be scaled\n",
        "# But we didn't do that!\n",
        "\n",
        "from sklearn.preprocessing import StandardScaler\n",
        "\n",
        "# StandardScaler = z score. Mean = 0, std = 1.\n",
        "\n",
        "scaler = StandardScaler()\n",
        "scaled_features = scaler.fit_transform(creditcard_df[['Years', 'Salary']])\n",
        "\n",
        "# Print the scaled features\n",
        "print(scaled_features)\n"
      ],
      "metadata": {
        "id": "v_Tjqc7f0aKl"
      },
      "execution_count": null,
      "outputs": []
    },
    {
      "cell_type": "code",
      "source": [
        "# Reset input X\n",
        "\n",
        "X = scaled_features\n",
        "\n",
        "print(X)\n",
        "print(y)"
      ],
      "metadata": {
        "id": "rLf2vxoB3VnF"
      },
      "execution_count": null,
      "outputs": []
    },
    {
      "cell_type": "code",
      "source": [
        "# Retrain neural network\n",
        "\n",
        "clf = MLPClassifier(hidden_layer_sizes=(3), activation='logistic', solver='lbfgs', random_state=42)\n",
        "clf.fit(X, y)\n",
        "\n",
        "# Network structure\n",
        "for i, (weights, intercepts) in enumerate(zip(clf.coefs_, clf.intercepts_)):\n",
        "    print('Hidden layer' if i == 0 else 'Output layer')\n",
        "    print(' Intercepts:\\n ', intercepts)\n",
        "    print(' Weights:')\n",
        "    for weight in weights:\n",
        "        print(' ', weight)\n",
        "    print()"
      ],
      "metadata": {
        "id": "9QiHl9833Ltp"
      },
      "execution_count": null,
      "outputs": []
    },
    {
      "cell_type": "code",
      "source": [
        "# Print predictions\n",
        "# Notice that predictions have improved for class 0\n",
        "\n",
        "print(pd.concat([\n",
        "    creditcard_df,\n",
        "    pd.DataFrame(clf.predict_proba(X), columns=[0, 1])\n",
        "], axis=1))\n",
        "\n",
        "# How many does it get right? How many does it get wrong?"
      ],
      "metadata": {
        "id": "tsLenbXg39AK"
      },
      "execution_count": null,
      "outputs": []
    },
    {
      "cell_type": "code",
      "source": [
        "# 5 minute exercise\n",
        "\n",
        "# Train a neural network with two hidden layers. The first has two neurons and the second has 3 neurons.\n",
        "# How does it perform?"
      ],
      "metadata": {
        "id": "OgLM_dk9xQ1m"
      },
      "execution_count": null,
      "outputs": []
    },
    {
      "cell_type": "markdown",
      "source": [
        "## Car dataset: MLPRegressor"
      ],
      "metadata": {
        "id": "e6f3U1sq407U"
      }
    },
    {
      "cell_type": "code",
      "source": [
        "!pip install dmba\n",
        "\n",
        "import dmba\n",
        "\n"
      ],
      "metadata": {
        "id": "u9WjEbma42ru"
      },
      "execution_count": null,
      "outputs": []
    },
    {
      "cell_type": "code",
      "source": [
        "# load the data\n",
        "car_df = dmba.load_data('ToyotaCorolla.csv')\n",
        "\n",
        "print(car_df.head())\n",
        "\n",
        "# select some of the variables\n",
        "selected_var = ['Price', 'Age_08_04', 'KM', 'Fuel_Type', 'HP', 'Automatic', 'Doors', 'Quarterly_Tax',\n",
        "                'Mfr_Guarantee', 'Guarantee_Period', 'Airco', 'Automatic_airco', 'CD_Player',\n",
        "                'Powered_Windows', 'Sport_Model', 'Tow_Bar']\n",
        "car_df = car_df[selected_var]\n"
      ],
      "metadata": {
        "id": "xjLJB9wH7YYE"
      },
      "execution_count": null,
      "outputs": []
    },
    {
      "cell_type": "code",
      "source": [
        "print(car_df.describe())"
      ],
      "metadata": {
        "id": "63uLg0bU6RX0"
      },
      "execution_count": null,
      "outputs": []
    },
    {
      "cell_type": "code",
      "source": [
        "# Neural networks don't work with categorical variables like Fuel_Type\n",
        "# They must be converted\n",
        "# pd.get_dummies converts categorical variables to 0/1 variables, one for each category\n",
        "# Also called one hot encoding\n",
        "# Note: Cannot run this code twice\n",
        "car_df = pd.get_dummies(car_df, columns=['Fuel_Type'], drop_first=True)\n",
        "\n",
        "# Define input and output variables\n",
        "X_df = car_df.drop(columns=['Price'])\n",
        "Y_df = car_df[ ['Price'] ] # Predicting Price\n",
        "\n"
      ],
      "metadata": {
        "id": "VGZpxjtb6qAM"
      },
      "execution_count": null,
      "outputs": []
    },
    {
      "cell_type": "code",
      "source": [
        "# Scale the data between 0 and 1 (similar to bike sales dataset)\n",
        "\n",
        "from sklearn.preprocessing import MinMaxScaler\n",
        "\n",
        "print(X_df.head())\n",
        "\n",
        "scaleInput = MinMaxScaler()\n",
        "scaleOutput = MinMaxScaler()\n",
        "X = scaleInput.fit_transform(X_df)\n",
        "y = scaleOutput.fit_transform(Y_df)\n",
        "\n",
        "print(X[0:2])"
      ],
      "metadata": {
        "id": "z1OnjTzW8YQa"
      },
      "execution_count": null,
      "outputs": []
    },
    {
      "cell_type": "code",
      "source": [
        "# Create training and testing data\n",
        "from sklearn.model_selection import train_test_split\n",
        "\n",
        "X_train, X_test, y_train, y_test = train_test_split(X, y, test_size=0.4, random_state=42)\n",
        "X_train.shape, X_test.shape, y_train.shape, y_test.shape\n"
      ],
      "metadata": {
        "id": "IgSOkjgu9nkl"
      },
      "execution_count": null,
      "outputs": []
    },
    {
      "cell_type": "markdown",
      "source": [
        "Neural network with two neurons in one hidden layer"
      ],
      "metadata": {
        "id": "8Z5ZjkhHEKP7"
      }
    },
    {
      "cell_type": "code",
      "source": [
        "# This is a regression problem. Predicting Price.\n",
        "\n",
        "from sklearn.neural_network import MLPRegressor\n",
        "\n",
        "car_nnet = MLPRegressor(hidden_layer_sizes=(2), activation='logistic', solver='lbfgs', random_state=42)\n",
        "car_nnet.fit(X_train, y_train.ravel()) # ravel flattens array"
      ],
      "metadata": {
        "id": "GT3Ye7B79syH"
      },
      "execution_count": null,
      "outputs": []
    },
    {
      "cell_type": "code",
      "source": [
        "# Calculate RMSE and R2 on the training set\n",
        "from sklearn.metrics import r2_score\n",
        "from sklearn.metrics import mean_squared_error\n",
        "\n",
        "# Need to reverse scaling so that output is interpretable\n",
        "y_actual = scaleOutput.inverse_transform(y_train).ravel()\n",
        "y_pred = scaleOutput.inverse_transform([car_nnet.predict(X_train)]).ravel()\n",
        "\n",
        "rmse_train = np.sqrt(mean_squared_error(y_actual, y_pred, squared=False))\n",
        "\n",
        "print(\"RMSE on training set: \", rmse_train)\n",
        "print(\"R2 on training set\", r2_score(y_actual, y_pred))"
      ],
      "metadata": {
        "id": "JWEuNoGb_qmi"
      },
      "execution_count": null,
      "outputs": []
    },
    {
      "cell_type": "code",
      "source": [
        "# Calculate RMSE and R2 on the test set\n",
        "\n",
        "# Reverse scaling - important\n",
        "y_actual = scaleOutput.inverse_transform(y_test).ravel()\n",
        "y_pred = scaleOutput.inverse_transform([car_nnet.predict(X_test)]).ravel()\n",
        "\n",
        "rmse_test = np.sqrt(mean_squared_error(y_actual, y_pred, squared=False))\n",
        "\n",
        "print(\"RMSE on test set: \", rmse_test)\n",
        "print(\"R2 on test set\", r2_score(y_actual, y_pred))"
      ],
      "metadata": {
        "id": "82xB8McQA0cb"
      },
      "execution_count": null,
      "outputs": []
    },
    {
      "cell_type": "code",
      "source": [
        "# Plot predicted vs actual values\n",
        "import matplotlib.pylab as plt\n",
        "\n",
        "ax = pd.DataFrame({'actual': y_actual, 'predicted': y_pred}).plot.scatter(x='actual', y='predicted', alpha=0.5)\n",
        "\n",
        "\n",
        "plt.show()"
      ],
      "metadata": {
        "id": "_jCXV8ShBf0C"
      },
      "execution_count": null,
      "outputs": []
    },
    {
      "cell_type": "code",
      "source": [
        "# 5 minute exercise\n",
        "\n",
        "# Look at the list of metrics.\n",
        "# Select one that you think would be relevant.\n",
        "# Add it to the code above."
      ],
      "metadata": {
        "id": "ZG_JWfD_xlat"
      },
      "execution_count": null,
      "outputs": []
    },
    {
      "cell_type": "code",
      "source": [
        "# We have now trained a simple regressor on this dataset\n",
        "# Now let's change the neural network hyperparameters and see if it makes a difference\n",
        "\n"
      ],
      "metadata": {
        "id": "xc80UjGBDzHK"
      },
      "execution_count": null,
      "outputs": []
    },
    {
      "cell_type": "markdown",
      "source": [
        "Neural network with five neurons in one hidden layer"
      ],
      "metadata": {
        "id": "EEaydixREXmj"
      }
    },
    {
      "cell_type": "code",
      "source": [
        "# train neural network with 5 hidden nodes\n",
        "car_nnet = MLPRegressor(hidden_layer_sizes=(5), activation='logistic', solver='lbfgs', random_state=42)\n",
        "car_nnet.fit(X_train, y_train.ravel())\n"
      ],
      "metadata": {
        "id": "uTDellfOEfnq"
      },
      "execution_count": null,
      "outputs": []
    },
    {
      "cell_type": "code",
      "source": [
        "# RMSE and R2 on the training set\n",
        "\n",
        "y_actual = scaleOutput.inverse_transform(y_train).ravel()\n",
        "y_pred = scaleOutput.inverse_transform([car_nnet.predict(X_train)]).ravel()\n",
        "\n",
        "rmse_train = np.sqrt(mean_squared_error(y_actual, y_pred, squared=False))\n",
        "\n",
        "print(\"RMSE on training set: \", rmse_train)\n",
        "print(\"R2 on training set\", r2_score(y_actual, y_pred))"
      ],
      "metadata": {
        "id": "XiFfJgdSFX4e"
      },
      "execution_count": null,
      "outputs": []
    },
    {
      "cell_type": "code",
      "source": [
        "# Calculate RMSE and R2 on the test set\n",
        "\n",
        "y_actual = scaleOutput.inverse_transform(y_test).ravel()\n",
        "y_pred = scaleOutput.inverse_transform([car_nnet.predict(X_test)]).ravel()\n",
        "\n",
        "rmse_test = np.sqrt(mean_squared_error(y_actual, y_pred, squared=False))\n",
        "\n",
        "print(\"RMSE on test set: \", rmse_test)\n",
        "print(\"R2 on test set\", r2_score(y_actual, y_pred))"
      ],
      "metadata": {
        "id": "RaVHCaugFrIt"
      },
      "execution_count": null,
      "outputs": []
    },
    {
      "cell_type": "code",
      "source": [
        "# Plot predicted versus actual prices\n",
        "ax = pd.DataFrame({'actual': y_actual, 'predicted': y_pred}).plot.scatter(x='actual', y='predicted', alpha=0.5)\n",
        "plt.show()"
      ],
      "metadata": {
        "id": "xhREPSE5F8Ty"
      },
      "execution_count": null,
      "outputs": []
    },
    {
      "cell_type": "markdown",
      "source": [
        "Neural network with one neuron in one hidden layer"
      ],
      "metadata": {
        "id": "RTzv7fQiGRFh"
      }
    },
    {
      "cell_type": "code",
      "source": [
        "car_nnet = MLPRegressor(hidden_layer_sizes=(1), activation='logistic', solver='lbfgs', random_state=42)\n",
        "car_nnet.fit(X_train, y_train.ravel())"
      ],
      "metadata": {
        "id": "6klJcdlHGSN5"
      },
      "execution_count": null,
      "outputs": []
    },
    {
      "cell_type": "code",
      "source": [
        "# RMSE and R2 on the training set\n",
        "\n",
        "y_actual = scaleOutput.inverse_transform(y_train).ravel()\n",
        "y_pred = scaleOutput.inverse_transform([car_nnet.predict(X_train)]).ravel()\n",
        "\n",
        "rmse_train = np.sqrt(mean_squared_error(y_actual, y_pred, squared=False))\n",
        "\n",
        "print(\"RMSE on training set: \", rmse_train)\n",
        "print(\"R2 on training set\", r2_score(y_actual, y_pred))"
      ],
      "metadata": {
        "id": "-X_fPS8qGau2"
      },
      "execution_count": null,
      "outputs": []
    },
    {
      "cell_type": "code",
      "source": [
        "# Calculate RMSE and R2 on the test set\n",
        "\n",
        "y_actual = scaleOutput.inverse_transform(y_test).ravel()\n",
        "y_pred = scaleOutput.inverse_transform([car_nnet.predict(X_test)]).ravel()\n",
        "\n",
        "rmse_test = np.sqrt(mean_squared_error(y_actual, y_pred, squared=False))\n",
        "\n",
        "print(\"RMSE on test set: \", rmse_test)\n",
        "print(\"R2 on test set\", r2_score(y_actual, y_pred))"
      ],
      "metadata": {
        "id": "HCYs2-aUGeFl"
      },
      "execution_count": null,
      "outputs": []
    },
    {
      "cell_type": "code",
      "source": [
        "# Plot predicted versus actual prices\n",
        "ax = pd.DataFrame({'actual': y_actual, 'predicted': y_pred}).plot.scatter(x='actual', y='predicted', alpha=0.5)\n",
        "plt.show()"
      ],
      "metadata": {
        "id": "fF8DSm6sGwt0"
      },
      "execution_count": null,
      "outputs": []
    },
    {
      "cell_type": "code",
      "source": [
        "# Conclusion: For this particular dataset, we get very good performance (R2 = 0.9)\n",
        "# with a very simple neural network (one neuron in the hidden layer). Changing the number of neurons does not\n",
        "# impact the performance by much.\n",
        "\n",
        "# 5 minute exercise\n",
        "# Try with no hidden layer! May have to lookup how to do this"
      ],
      "metadata": {
        "id": "uLabG0O6G2CN"
      },
      "execution_count": null,
      "outputs": []
    },
    {
      "cell_type": "code",
      "source": [
        "# The End\n"
      ],
      "metadata": {
        "id": "TbsFmAVKG-N4"
      },
      "execution_count": null,
      "outputs": []
    }
  ]
}